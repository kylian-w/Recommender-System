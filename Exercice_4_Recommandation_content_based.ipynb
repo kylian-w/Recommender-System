{
  "nbformat": 4,
  "nbformat_minor": 0,
  "metadata": {
    "colab": {
      "name": "Exercice_4_Recommandation_content-based.ipynb",
      "provenance": []
    },
    "kernelspec": {
      "name": "python3",
      "display_name": "Python 3"
    },
    "language_info": {
      "name": "python"
    }
  },
  "cells": [
    {
      "cell_type": "code",
      "execution_count": 1,
      "metadata": {
        "id": "ui-OcDALuKlg"
      },
      "outputs": [],
      "source": [
        "import pandas as pd\n",
        "import numpy as np"
      ]
    },
    {
      "cell_type": "code",
      "source": [
        "user_df=pd.read_csv('/content/prepared_user_df.csv')\n",
        "partners_df=pd.read_csv('/content/prepared_partners_df.csv')"
      ],
      "metadata": {
        "id": "KcPfzXOFum6L"
      },
      "execution_count": 2,
      "outputs": []
    },
    {
      "cell_type": "code",
      "source": [
        "del user_df[user_df.columns[0]] #when saving file, a columns unnamed is automatically created at the beginning of the df. Delete it\n",
        "user_df"
      ],
      "metadata": {
        "colab": {
          "base_uri": "https://localhost:8080/",
          "height": 424
        },
        "id": "ph1Mb1wiu4Wv",
        "outputId": "26ea3532-2d40-48da-d460-2337766172ba"
      },
      "execution_count": 3,
      "outputs": [
        {
          "output_type": "execute_result",
          "data": {
            "text/plain": [
              "      iid    pid  gender       age   imprace  match  dec_u  std_from\n",
              "0       1   11.0       0 -1.502463 -0.627188      0      1 -1.097690\n",
              "1       1   12.0       0 -1.502463 -0.627188      0      1 -1.097690\n",
              "2       1   13.0       0 -1.502463 -0.627188      1      1 -1.097690\n",
              "3       1   14.0       0 -1.502463 -0.627188      1      1 -1.097690\n",
              "4       1   15.0       0 -1.502463 -0.627188      1      1 -1.097690\n",
              "...   ...    ...     ...       ...       ...    ...    ...       ...\n",
              "8363  552  526.0       1 -0.380998 -0.978594      0      0 -0.798292\n",
              "8364  552  527.0       1 -0.380998 -0.978594      0      1 -0.798292\n",
              "8365  552  528.0       1 -0.380998 -0.978594      0      1 -0.798292\n",
              "8366  552  529.0       1 -0.380998 -0.978594      0      0 -0.798292\n",
              "8367  552  530.0       1 -0.380998 -0.978594      0      0 -0.798292\n",
              "\n",
              "[8368 rows x 8 columns]"
            ],
            "text/html": [
              "\n",
              "  <div id=\"df-55c0b042-359f-4d8f-a092-43c82f30580d\">\n",
              "    <div class=\"colab-df-container\">\n",
              "      <div>\n",
              "<style scoped>\n",
              "    .dataframe tbody tr th:only-of-type {\n",
              "        vertical-align: middle;\n",
              "    }\n",
              "\n",
              "    .dataframe tbody tr th {\n",
              "        vertical-align: top;\n",
              "    }\n",
              "\n",
              "    .dataframe thead th {\n",
              "        text-align: right;\n",
              "    }\n",
              "</style>\n",
              "<table border=\"1\" class=\"dataframe\">\n",
              "  <thead>\n",
              "    <tr style=\"text-align: right;\">\n",
              "      <th></th>\n",
              "      <th>iid</th>\n",
              "      <th>pid</th>\n",
              "      <th>gender</th>\n",
              "      <th>age</th>\n",
              "      <th>imprace</th>\n",
              "      <th>match</th>\n",
              "      <th>dec_u</th>\n",
              "      <th>std_from</th>\n",
              "    </tr>\n",
              "  </thead>\n",
              "  <tbody>\n",
              "    <tr>\n",
              "      <th>0</th>\n",
              "      <td>1</td>\n",
              "      <td>11.0</td>\n",
              "      <td>0</td>\n",
              "      <td>-1.502463</td>\n",
              "      <td>-0.627188</td>\n",
              "      <td>0</td>\n",
              "      <td>1</td>\n",
              "      <td>-1.097690</td>\n",
              "    </tr>\n",
              "    <tr>\n",
              "      <th>1</th>\n",
              "      <td>1</td>\n",
              "      <td>12.0</td>\n",
              "      <td>0</td>\n",
              "      <td>-1.502463</td>\n",
              "      <td>-0.627188</td>\n",
              "      <td>0</td>\n",
              "      <td>1</td>\n",
              "      <td>-1.097690</td>\n",
              "    </tr>\n",
              "    <tr>\n",
              "      <th>2</th>\n",
              "      <td>1</td>\n",
              "      <td>13.0</td>\n",
              "      <td>0</td>\n",
              "      <td>-1.502463</td>\n",
              "      <td>-0.627188</td>\n",
              "      <td>1</td>\n",
              "      <td>1</td>\n",
              "      <td>-1.097690</td>\n",
              "    </tr>\n",
              "    <tr>\n",
              "      <th>3</th>\n",
              "      <td>1</td>\n",
              "      <td>14.0</td>\n",
              "      <td>0</td>\n",
              "      <td>-1.502463</td>\n",
              "      <td>-0.627188</td>\n",
              "      <td>1</td>\n",
              "      <td>1</td>\n",
              "      <td>-1.097690</td>\n",
              "    </tr>\n",
              "    <tr>\n",
              "      <th>4</th>\n",
              "      <td>1</td>\n",
              "      <td>15.0</td>\n",
              "      <td>0</td>\n",
              "      <td>-1.502463</td>\n",
              "      <td>-0.627188</td>\n",
              "      <td>1</td>\n",
              "      <td>1</td>\n",
              "      <td>-1.097690</td>\n",
              "    </tr>\n",
              "    <tr>\n",
              "      <th>...</th>\n",
              "      <td>...</td>\n",
              "      <td>...</td>\n",
              "      <td>...</td>\n",
              "      <td>...</td>\n",
              "      <td>...</td>\n",
              "      <td>...</td>\n",
              "      <td>...</td>\n",
              "      <td>...</td>\n",
              "    </tr>\n",
              "    <tr>\n",
              "      <th>8363</th>\n",
              "      <td>552</td>\n",
              "      <td>526.0</td>\n",
              "      <td>1</td>\n",
              "      <td>-0.380998</td>\n",
              "      <td>-0.978594</td>\n",
              "      <td>0</td>\n",
              "      <td>0</td>\n",
              "      <td>-0.798292</td>\n",
              "    </tr>\n",
              "    <tr>\n",
              "      <th>8364</th>\n",
              "      <td>552</td>\n",
              "      <td>527.0</td>\n",
              "      <td>1</td>\n",
              "      <td>-0.380998</td>\n",
              "      <td>-0.978594</td>\n",
              "      <td>0</td>\n",
              "      <td>1</td>\n",
              "      <td>-0.798292</td>\n",
              "    </tr>\n",
              "    <tr>\n",
              "      <th>8365</th>\n",
              "      <td>552</td>\n",
              "      <td>528.0</td>\n",
              "      <td>1</td>\n",
              "      <td>-0.380998</td>\n",
              "      <td>-0.978594</td>\n",
              "      <td>0</td>\n",
              "      <td>1</td>\n",
              "      <td>-0.798292</td>\n",
              "    </tr>\n",
              "    <tr>\n",
              "      <th>8366</th>\n",
              "      <td>552</td>\n",
              "      <td>529.0</td>\n",
              "      <td>1</td>\n",
              "      <td>-0.380998</td>\n",
              "      <td>-0.978594</td>\n",
              "      <td>0</td>\n",
              "      <td>0</td>\n",
              "      <td>-0.798292</td>\n",
              "    </tr>\n",
              "    <tr>\n",
              "      <th>8367</th>\n",
              "      <td>552</td>\n",
              "      <td>530.0</td>\n",
              "      <td>1</td>\n",
              "      <td>-0.380998</td>\n",
              "      <td>-0.978594</td>\n",
              "      <td>0</td>\n",
              "      <td>0</td>\n",
              "      <td>-0.798292</td>\n",
              "    </tr>\n",
              "  </tbody>\n",
              "</table>\n",
              "<p>8368 rows × 8 columns</p>\n",
              "</div>\n",
              "      <button class=\"colab-df-convert\" onclick=\"convertToInteractive('df-55c0b042-359f-4d8f-a092-43c82f30580d')\"\n",
              "              title=\"Convert this dataframe to an interactive table.\"\n",
              "              style=\"display:none;\">\n",
              "        \n",
              "  <svg xmlns=\"http://www.w3.org/2000/svg\" height=\"24px\"viewBox=\"0 0 24 24\"\n",
              "       width=\"24px\">\n",
              "    <path d=\"M0 0h24v24H0V0z\" fill=\"none\"/>\n",
              "    <path d=\"M18.56 5.44l.94 2.06.94-2.06 2.06-.94-2.06-.94-.94-2.06-.94 2.06-2.06.94zm-11 1L8.5 8.5l.94-2.06 2.06-.94-2.06-.94L8.5 2.5l-.94 2.06-2.06.94zm10 10l.94 2.06.94-2.06 2.06-.94-2.06-.94-.94-2.06-.94 2.06-2.06.94z\"/><path d=\"M17.41 7.96l-1.37-1.37c-.4-.4-.92-.59-1.43-.59-.52 0-1.04.2-1.43.59L10.3 9.45l-7.72 7.72c-.78.78-.78 2.05 0 2.83L4 21.41c.39.39.9.59 1.41.59.51 0 1.02-.2 1.41-.59l7.78-7.78 2.81-2.81c.8-.78.8-2.07 0-2.86zM5.41 20L4 18.59l7.72-7.72 1.47 1.35L5.41 20z\"/>\n",
              "  </svg>\n",
              "      </button>\n",
              "      \n",
              "  <style>\n",
              "    .colab-df-container {\n",
              "      display:flex;\n",
              "      flex-wrap:wrap;\n",
              "      gap: 12px;\n",
              "    }\n",
              "\n",
              "    .colab-df-convert {\n",
              "      background-color: #E8F0FE;\n",
              "      border: none;\n",
              "      border-radius: 50%;\n",
              "      cursor: pointer;\n",
              "      display: none;\n",
              "      fill: #1967D2;\n",
              "      height: 32px;\n",
              "      padding: 0 0 0 0;\n",
              "      width: 32px;\n",
              "    }\n",
              "\n",
              "    .colab-df-convert:hover {\n",
              "      background-color: #E2EBFA;\n",
              "      box-shadow: 0px 1px 2px rgba(60, 64, 67, 0.3), 0px 1px 3px 1px rgba(60, 64, 67, 0.15);\n",
              "      fill: #174EA6;\n",
              "    }\n",
              "\n",
              "    [theme=dark] .colab-df-convert {\n",
              "      background-color: #3B4455;\n",
              "      fill: #D2E3FC;\n",
              "    }\n",
              "\n",
              "    [theme=dark] .colab-df-convert:hover {\n",
              "      background-color: #434B5C;\n",
              "      box-shadow: 0px 1px 3px 1px rgba(0, 0, 0, 0.15);\n",
              "      filter: drop-shadow(0px 1px 2px rgba(0, 0, 0, 0.3));\n",
              "      fill: #FFFFFF;\n",
              "    }\n",
              "  </style>\n",
              "\n",
              "      <script>\n",
              "        const buttonEl =\n",
              "          document.querySelector('#df-55c0b042-359f-4d8f-a092-43c82f30580d button.colab-df-convert');\n",
              "        buttonEl.style.display =\n",
              "          google.colab.kernel.accessAllowed ? 'block' : 'none';\n",
              "\n",
              "        async function convertToInteractive(key) {\n",
              "          const element = document.querySelector('#df-55c0b042-359f-4d8f-a092-43c82f30580d');\n",
              "          const dataTable =\n",
              "            await google.colab.kernel.invokeFunction('convertToInteractive',\n",
              "                                                     [key], {});\n",
              "          if (!dataTable) return;\n",
              "\n",
              "          const docLinkHtml = 'Like what you see? Visit the ' +\n",
              "            '<a target=\"_blank\" href=https://colab.research.google.com/notebooks/data_table.ipynb>data table notebook</a>'\n",
              "            + ' to learn more about interactive tables.';\n",
              "          element.innerHTML = '';\n",
              "          dataTable['output_type'] = 'display_data';\n",
              "          await google.colab.output.renderOutput(dataTable, element);\n",
              "          const docLink = document.createElement('div');\n",
              "          docLink.innerHTML = docLinkHtml;\n",
              "          element.appendChild(docLink);\n",
              "        }\n",
              "      </script>\n",
              "    </div>\n",
              "  </div>\n",
              "  "
            ]
          },
          "metadata": {},
          "execution_count": 3
        }
      ]
    },
    {
      "cell_type": "code",
      "source": [
        "user_df.isnull().sum()"
      ],
      "metadata": {
        "colab": {
          "base_uri": "https://localhost:8080/"
        },
        "id": "szsHLC66HTPL",
        "outputId": "7df43196-3dfd-479f-a678-6bda22ebbdf2"
      },
      "execution_count": 4,
      "outputs": [
        {
          "output_type": "execute_result",
          "data": {
            "text/plain": [
              "iid         0\n",
              "pid         0\n",
              "gender      0\n",
              "age         0\n",
              "imprace     0\n",
              "match       0\n",
              "dec_u       0\n",
              "std_from    0\n",
              "dtype: int64"
            ]
          },
          "metadata": {},
          "execution_count": 4
        }
      ]
    },
    {
      "cell_type": "code",
      "source": [
        "del partners_df[partners_df.columns[0]]\n",
        "partners_df"
      ],
      "metadata": {
        "colab": {
          "base_uri": "https://localhost:8080/",
          "height": 424
        },
        "id": "qawqYLIfu6gc",
        "outputId": "791bafed-0664-40ce-fd23-8c5132ca2626"
      },
      "execution_count": 5,
      "outputs": [
        {
          "output_type": "execute_result",
          "data": {
            "text/plain": [
              "        pid  pf_o_att  pf_o_sin  pf_o_int  pf_o_fun  pf_o_amb      pf_o_sha\n",
              "0      11.0  0.435433 -0.140833 -0.135311  0.372768 -1.148772 -1.071878e+00\n",
              "1      12.0  1.969294 -1.791148 -2.547788  3.263458 -1.148772 -1.804465e+00\n",
              "2      13.0 -0.546238 -0.305864 -0.255935  0.083699 -0.053893 -4.625602e-02\n",
              "3      14.0  0.128661 -1.378569 -0.738430  3.263458 -0.757744 -1.071878e+00\n",
              "4      15.0  0.128661 -0.965990 -0.135311 -1.072577 -0.366716  1.125883e+00\n",
              "...     ...       ...       ...       ...       ...       ...           ...\n",
              "8363  526.0 -1.098428 -0.965990  1.070928  0.372768 -0.366716  3.932962e-01\n",
              "8364  527.0  1.355749 -0.140833 -1.341550 -1.795249 -0.366716 -1.071878e+00\n",
              "8365  528.0  0.742205 -0.965990  1.070928 -1.072577 -0.366716 -3.290427e-16\n",
              "8366  529.0 -1.098428  0.271746  0.467809 -1.072577 -0.366716  1.125883e+00\n",
              "8367  530.0 -0.484883 -0.140833 -1.341550 -0.349904 -0.757744  2.591057e+00\n",
              "\n",
              "[8368 rows x 7 columns]"
            ],
            "text/html": [
              "\n",
              "  <div id=\"df-e16d8bcd-4c3e-4702-b1ad-fcceec5b4f28\">\n",
              "    <div class=\"colab-df-container\">\n",
              "      <div>\n",
              "<style scoped>\n",
              "    .dataframe tbody tr th:only-of-type {\n",
              "        vertical-align: middle;\n",
              "    }\n",
              "\n",
              "    .dataframe tbody tr th {\n",
              "        vertical-align: top;\n",
              "    }\n",
              "\n",
              "    .dataframe thead th {\n",
              "        text-align: right;\n",
              "    }\n",
              "</style>\n",
              "<table border=\"1\" class=\"dataframe\">\n",
              "  <thead>\n",
              "    <tr style=\"text-align: right;\">\n",
              "      <th></th>\n",
              "      <th>pid</th>\n",
              "      <th>pf_o_att</th>\n",
              "      <th>pf_o_sin</th>\n",
              "      <th>pf_o_int</th>\n",
              "      <th>pf_o_fun</th>\n",
              "      <th>pf_o_amb</th>\n",
              "      <th>pf_o_sha</th>\n",
              "    </tr>\n",
              "  </thead>\n",
              "  <tbody>\n",
              "    <tr>\n",
              "      <th>0</th>\n",
              "      <td>11.0</td>\n",
              "      <td>0.435433</td>\n",
              "      <td>-0.140833</td>\n",
              "      <td>-0.135311</td>\n",
              "      <td>0.372768</td>\n",
              "      <td>-1.148772</td>\n",
              "      <td>-1.071878e+00</td>\n",
              "    </tr>\n",
              "    <tr>\n",
              "      <th>1</th>\n",
              "      <td>12.0</td>\n",
              "      <td>1.969294</td>\n",
              "      <td>-1.791148</td>\n",
              "      <td>-2.547788</td>\n",
              "      <td>3.263458</td>\n",
              "      <td>-1.148772</td>\n",
              "      <td>-1.804465e+00</td>\n",
              "    </tr>\n",
              "    <tr>\n",
              "      <th>2</th>\n",
              "      <td>13.0</td>\n",
              "      <td>-0.546238</td>\n",
              "      <td>-0.305864</td>\n",
              "      <td>-0.255935</td>\n",
              "      <td>0.083699</td>\n",
              "      <td>-0.053893</td>\n",
              "      <td>-4.625602e-02</td>\n",
              "    </tr>\n",
              "    <tr>\n",
              "      <th>3</th>\n",
              "      <td>14.0</td>\n",
              "      <td>0.128661</td>\n",
              "      <td>-1.378569</td>\n",
              "      <td>-0.738430</td>\n",
              "      <td>3.263458</td>\n",
              "      <td>-0.757744</td>\n",
              "      <td>-1.071878e+00</td>\n",
              "    </tr>\n",
              "    <tr>\n",
              "      <th>4</th>\n",
              "      <td>15.0</td>\n",
              "      <td>0.128661</td>\n",
              "      <td>-0.965990</td>\n",
              "      <td>-0.135311</td>\n",
              "      <td>-1.072577</td>\n",
              "      <td>-0.366716</td>\n",
              "      <td>1.125883e+00</td>\n",
              "    </tr>\n",
              "    <tr>\n",
              "      <th>...</th>\n",
              "      <td>...</td>\n",
              "      <td>...</td>\n",
              "      <td>...</td>\n",
              "      <td>...</td>\n",
              "      <td>...</td>\n",
              "      <td>...</td>\n",
              "      <td>...</td>\n",
              "    </tr>\n",
              "    <tr>\n",
              "      <th>8363</th>\n",
              "      <td>526.0</td>\n",
              "      <td>-1.098428</td>\n",
              "      <td>-0.965990</td>\n",
              "      <td>1.070928</td>\n",
              "      <td>0.372768</td>\n",
              "      <td>-0.366716</td>\n",
              "      <td>3.932962e-01</td>\n",
              "    </tr>\n",
              "    <tr>\n",
              "      <th>8364</th>\n",
              "      <td>527.0</td>\n",
              "      <td>1.355749</td>\n",
              "      <td>-0.140833</td>\n",
              "      <td>-1.341550</td>\n",
              "      <td>-1.795249</td>\n",
              "      <td>-0.366716</td>\n",
              "      <td>-1.071878e+00</td>\n",
              "    </tr>\n",
              "    <tr>\n",
              "      <th>8365</th>\n",
              "      <td>528.0</td>\n",
              "      <td>0.742205</td>\n",
              "      <td>-0.965990</td>\n",
              "      <td>1.070928</td>\n",
              "      <td>-1.072577</td>\n",
              "      <td>-0.366716</td>\n",
              "      <td>-3.290427e-16</td>\n",
              "    </tr>\n",
              "    <tr>\n",
              "      <th>8366</th>\n",
              "      <td>529.0</td>\n",
              "      <td>-1.098428</td>\n",
              "      <td>0.271746</td>\n",
              "      <td>0.467809</td>\n",
              "      <td>-1.072577</td>\n",
              "      <td>-0.366716</td>\n",
              "      <td>1.125883e+00</td>\n",
              "    </tr>\n",
              "    <tr>\n",
              "      <th>8367</th>\n",
              "      <td>530.0</td>\n",
              "      <td>-0.484883</td>\n",
              "      <td>-0.140833</td>\n",
              "      <td>-1.341550</td>\n",
              "      <td>-0.349904</td>\n",
              "      <td>-0.757744</td>\n",
              "      <td>2.591057e+00</td>\n",
              "    </tr>\n",
              "  </tbody>\n",
              "</table>\n",
              "<p>8368 rows × 7 columns</p>\n",
              "</div>\n",
              "      <button class=\"colab-df-convert\" onclick=\"convertToInteractive('df-e16d8bcd-4c3e-4702-b1ad-fcceec5b4f28')\"\n",
              "              title=\"Convert this dataframe to an interactive table.\"\n",
              "              style=\"display:none;\">\n",
              "        \n",
              "  <svg xmlns=\"http://www.w3.org/2000/svg\" height=\"24px\"viewBox=\"0 0 24 24\"\n",
              "       width=\"24px\">\n",
              "    <path d=\"M0 0h24v24H0V0z\" fill=\"none\"/>\n",
              "    <path d=\"M18.56 5.44l.94 2.06.94-2.06 2.06-.94-2.06-.94-.94-2.06-.94 2.06-2.06.94zm-11 1L8.5 8.5l.94-2.06 2.06-.94-2.06-.94L8.5 2.5l-.94 2.06-2.06.94zm10 10l.94 2.06.94-2.06 2.06-.94-2.06-.94-.94-2.06-.94 2.06-2.06.94z\"/><path d=\"M17.41 7.96l-1.37-1.37c-.4-.4-.92-.59-1.43-.59-.52 0-1.04.2-1.43.59L10.3 9.45l-7.72 7.72c-.78.78-.78 2.05 0 2.83L4 21.41c.39.39.9.59 1.41.59.51 0 1.02-.2 1.41-.59l7.78-7.78 2.81-2.81c.8-.78.8-2.07 0-2.86zM5.41 20L4 18.59l7.72-7.72 1.47 1.35L5.41 20z\"/>\n",
              "  </svg>\n",
              "      </button>\n",
              "      \n",
              "  <style>\n",
              "    .colab-df-container {\n",
              "      display:flex;\n",
              "      flex-wrap:wrap;\n",
              "      gap: 12px;\n",
              "    }\n",
              "\n",
              "    .colab-df-convert {\n",
              "      background-color: #E8F0FE;\n",
              "      border: none;\n",
              "      border-radius: 50%;\n",
              "      cursor: pointer;\n",
              "      display: none;\n",
              "      fill: #1967D2;\n",
              "      height: 32px;\n",
              "      padding: 0 0 0 0;\n",
              "      width: 32px;\n",
              "    }\n",
              "\n",
              "    .colab-df-convert:hover {\n",
              "      background-color: #E2EBFA;\n",
              "      box-shadow: 0px 1px 2px rgba(60, 64, 67, 0.3), 0px 1px 3px 1px rgba(60, 64, 67, 0.15);\n",
              "      fill: #174EA6;\n",
              "    }\n",
              "\n",
              "    [theme=dark] .colab-df-convert {\n",
              "      background-color: #3B4455;\n",
              "      fill: #D2E3FC;\n",
              "    }\n",
              "\n",
              "    [theme=dark] .colab-df-convert:hover {\n",
              "      background-color: #434B5C;\n",
              "      box-shadow: 0px 1px 3px 1px rgba(0, 0, 0, 0.15);\n",
              "      filter: drop-shadow(0px 1px 2px rgba(0, 0, 0, 0.3));\n",
              "      fill: #FFFFFF;\n",
              "    }\n",
              "  </style>\n",
              "\n",
              "      <script>\n",
              "        const buttonEl =\n",
              "          document.querySelector('#df-e16d8bcd-4c3e-4702-b1ad-fcceec5b4f28 button.colab-df-convert');\n",
              "        buttonEl.style.display =\n",
              "          google.colab.kernel.accessAllowed ? 'block' : 'none';\n",
              "\n",
              "        async function convertToInteractive(key) {\n",
              "          const element = document.querySelector('#df-e16d8bcd-4c3e-4702-b1ad-fcceec5b4f28');\n",
              "          const dataTable =\n",
              "            await google.colab.kernel.invokeFunction('convertToInteractive',\n",
              "                                                     [key], {});\n",
              "          if (!dataTable) return;\n",
              "\n",
              "          const docLinkHtml = 'Like what you see? Visit the ' +\n",
              "            '<a target=\"_blank\" href=https://colab.research.google.com/notebooks/data_table.ipynb>data table notebook</a>'\n",
              "            + ' to learn more about interactive tables.';\n",
              "          element.innerHTML = '';\n",
              "          dataTable['output_type'] = 'display_data';\n",
              "          await google.colab.output.renderOutput(dataTable, element);\n",
              "          const docLink = document.createElement('div');\n",
              "          docLink.innerHTML = docLinkHtml;\n",
              "          element.appendChild(docLink);\n",
              "        }\n",
              "      </script>\n",
              "    </div>\n",
              "  </div>\n",
              "  "
            ]
          },
          "metadata": {},
          "execution_count": 5
        }
      ]
    },
    {
      "cell_type": "markdown",
      "source": [
        "Je prendrai ma variable cible \"y\" pour l'étape d'entrainement et d'évaluation comme étant la colonne \"match\". En effet, il s'agit d'un site de rencontres et je pense qu'il est plus important de recommander des matchs potentielles aux utilisateurs que des personnes qu'ils aimeront potentiellement mais qui ne seront pas forcément réciproques."
      ],
      "metadata": {
        "id": "u94d_vFD5JgN"
      }
    },
    {
      "cell_type": "code",
      "source": [
        "recommended_partner_df=user_df[['iid']] #dataset to match the results to\n",
        "recommended_partner_df"
      ],
      "metadata": {
        "colab": {
          "base_uri": "https://localhost:8080/",
          "height": 424
        },
        "id": "eJtPmQ7qaUeO",
        "outputId": "52503194-61a9-4d1e-d0ee-4d4a9c9b1f20"
      },
      "execution_count": 73,
      "outputs": [
        {
          "output_type": "execute_result",
          "data": {
            "text/plain": [
              "      iid\n",
              "0       1\n",
              "1       1\n",
              "2       1\n",
              "3       1\n",
              "4       1\n",
              "...   ...\n",
              "8363  552\n",
              "8364  552\n",
              "8365  552\n",
              "8366  552\n",
              "8367  552\n",
              "\n",
              "[8368 rows x 1 columns]"
            ],
            "text/html": [
              "\n",
              "  <div id=\"df-8d68d295-63ca-45bc-9dbf-4b49a921141f\">\n",
              "    <div class=\"colab-df-container\">\n",
              "      <div>\n",
              "<style scoped>\n",
              "    .dataframe tbody tr th:only-of-type {\n",
              "        vertical-align: middle;\n",
              "    }\n",
              "\n",
              "    .dataframe tbody tr th {\n",
              "        vertical-align: top;\n",
              "    }\n",
              "\n",
              "    .dataframe thead th {\n",
              "        text-align: right;\n",
              "    }\n",
              "</style>\n",
              "<table border=\"1\" class=\"dataframe\">\n",
              "  <thead>\n",
              "    <tr style=\"text-align: right;\">\n",
              "      <th></th>\n",
              "      <th>iid</th>\n",
              "    </tr>\n",
              "  </thead>\n",
              "  <tbody>\n",
              "    <tr>\n",
              "      <th>0</th>\n",
              "      <td>1</td>\n",
              "    </tr>\n",
              "    <tr>\n",
              "      <th>1</th>\n",
              "      <td>1</td>\n",
              "    </tr>\n",
              "    <tr>\n",
              "      <th>2</th>\n",
              "      <td>1</td>\n",
              "    </tr>\n",
              "    <tr>\n",
              "      <th>3</th>\n",
              "      <td>1</td>\n",
              "    </tr>\n",
              "    <tr>\n",
              "      <th>4</th>\n",
              "      <td>1</td>\n",
              "    </tr>\n",
              "    <tr>\n",
              "      <th>...</th>\n",
              "      <td>...</td>\n",
              "    </tr>\n",
              "    <tr>\n",
              "      <th>8363</th>\n",
              "      <td>552</td>\n",
              "    </tr>\n",
              "    <tr>\n",
              "      <th>8364</th>\n",
              "      <td>552</td>\n",
              "    </tr>\n",
              "    <tr>\n",
              "      <th>8365</th>\n",
              "      <td>552</td>\n",
              "    </tr>\n",
              "    <tr>\n",
              "      <th>8366</th>\n",
              "      <td>552</td>\n",
              "    </tr>\n",
              "    <tr>\n",
              "      <th>8367</th>\n",
              "      <td>552</td>\n",
              "    </tr>\n",
              "  </tbody>\n",
              "</table>\n",
              "<p>8368 rows × 1 columns</p>\n",
              "</div>\n",
              "      <button class=\"colab-df-convert\" onclick=\"convertToInteractive('df-8d68d295-63ca-45bc-9dbf-4b49a921141f')\"\n",
              "              title=\"Convert this dataframe to an interactive table.\"\n",
              "              style=\"display:none;\">\n",
              "        \n",
              "  <svg xmlns=\"http://www.w3.org/2000/svg\" height=\"24px\"viewBox=\"0 0 24 24\"\n",
              "       width=\"24px\">\n",
              "    <path d=\"M0 0h24v24H0V0z\" fill=\"none\"/>\n",
              "    <path d=\"M18.56 5.44l.94 2.06.94-2.06 2.06-.94-2.06-.94-.94-2.06-.94 2.06-2.06.94zm-11 1L8.5 8.5l.94-2.06 2.06-.94-2.06-.94L8.5 2.5l-.94 2.06-2.06.94zm10 10l.94 2.06.94-2.06 2.06-.94-2.06-.94-.94-2.06-.94 2.06-2.06.94z\"/><path d=\"M17.41 7.96l-1.37-1.37c-.4-.4-.92-.59-1.43-.59-.52 0-1.04.2-1.43.59L10.3 9.45l-7.72 7.72c-.78.78-.78 2.05 0 2.83L4 21.41c.39.39.9.59 1.41.59.51 0 1.02-.2 1.41-.59l7.78-7.78 2.81-2.81c.8-.78.8-2.07 0-2.86zM5.41 20L4 18.59l7.72-7.72 1.47 1.35L5.41 20z\"/>\n",
              "  </svg>\n",
              "      </button>\n",
              "      \n",
              "  <style>\n",
              "    .colab-df-container {\n",
              "      display:flex;\n",
              "      flex-wrap:wrap;\n",
              "      gap: 12px;\n",
              "    }\n",
              "\n",
              "    .colab-df-convert {\n",
              "      background-color: #E8F0FE;\n",
              "      border: none;\n",
              "      border-radius: 50%;\n",
              "      cursor: pointer;\n",
              "      display: none;\n",
              "      fill: #1967D2;\n",
              "      height: 32px;\n",
              "      padding: 0 0 0 0;\n",
              "      width: 32px;\n",
              "    }\n",
              "\n",
              "    .colab-df-convert:hover {\n",
              "      background-color: #E2EBFA;\n",
              "      box-shadow: 0px 1px 2px rgba(60, 64, 67, 0.3), 0px 1px 3px 1px rgba(60, 64, 67, 0.15);\n",
              "      fill: #174EA6;\n",
              "    }\n",
              "\n",
              "    [theme=dark] .colab-df-convert {\n",
              "      background-color: #3B4455;\n",
              "      fill: #D2E3FC;\n",
              "    }\n",
              "\n",
              "    [theme=dark] .colab-df-convert:hover {\n",
              "      background-color: #434B5C;\n",
              "      box-shadow: 0px 1px 3px 1px rgba(0, 0, 0, 0.15);\n",
              "      filter: drop-shadow(0px 1px 2px rgba(0, 0, 0, 0.3));\n",
              "      fill: #FFFFFF;\n",
              "    }\n",
              "  </style>\n",
              "\n",
              "      <script>\n",
              "        const buttonEl =\n",
              "          document.querySelector('#df-8d68d295-63ca-45bc-9dbf-4b49a921141f button.colab-df-convert');\n",
              "        buttonEl.style.display =\n",
              "          google.colab.kernel.accessAllowed ? 'block' : 'none';\n",
              "\n",
              "        async function convertToInteractive(key) {\n",
              "          const element = document.querySelector('#df-8d68d295-63ca-45bc-9dbf-4b49a921141f');\n",
              "          const dataTable =\n",
              "            await google.colab.kernel.invokeFunction('convertToInteractive',\n",
              "                                                     [key], {});\n",
              "          if (!dataTable) return;\n",
              "\n",
              "          const docLinkHtml = 'Like what you see? Visit the ' +\n",
              "            '<a target=\"_blank\" href=https://colab.research.google.com/notebooks/data_table.ipynb>data table notebook</a>'\n",
              "            + ' to learn more about interactive tables.';\n",
              "          element.innerHTML = '';\n",
              "          dataTable['output_type'] = 'display_data';\n",
              "          await google.colab.output.renderOutput(dataTable, element);\n",
              "          const docLink = document.createElement('div');\n",
              "          docLink.innerHTML = docLinkHtml;\n",
              "          element.appendChild(docLink);\n",
              "        }\n",
              "      </script>\n",
              "    </div>\n",
              "  </div>\n",
              "  "
            ]
          },
          "metadata": {},
          "execution_count": 73
        }
      ]
    },
    {
      "cell_type": "code",
      "source": [
        "y_values=user_df[['match']]\n",
        "y_values"
      ],
      "metadata": {
        "colab": {
          "base_uri": "https://localhost:8080/",
          "height": 424
        },
        "id": "TmolH-BJu8NM",
        "outputId": "ba17f13b-3e01-4ee1-c55c-d9238a1d627e"
      },
      "execution_count": 6,
      "outputs": [
        {
          "output_type": "execute_result",
          "data": {
            "text/plain": [
              "      match\n",
              "0         0\n",
              "1         0\n",
              "2         1\n",
              "3         1\n",
              "4         1\n",
              "...     ...\n",
              "8363      0\n",
              "8364      0\n",
              "8365      0\n",
              "8366      0\n",
              "8367      0\n",
              "\n",
              "[8368 rows x 1 columns]"
            ],
            "text/html": [
              "\n",
              "  <div id=\"df-24401e57-888b-4934-a0b6-da581bdd31b7\">\n",
              "    <div class=\"colab-df-container\">\n",
              "      <div>\n",
              "<style scoped>\n",
              "    .dataframe tbody tr th:only-of-type {\n",
              "        vertical-align: middle;\n",
              "    }\n",
              "\n",
              "    .dataframe tbody tr th {\n",
              "        vertical-align: top;\n",
              "    }\n",
              "\n",
              "    .dataframe thead th {\n",
              "        text-align: right;\n",
              "    }\n",
              "</style>\n",
              "<table border=\"1\" class=\"dataframe\">\n",
              "  <thead>\n",
              "    <tr style=\"text-align: right;\">\n",
              "      <th></th>\n",
              "      <th>match</th>\n",
              "    </tr>\n",
              "  </thead>\n",
              "  <tbody>\n",
              "    <tr>\n",
              "      <th>0</th>\n",
              "      <td>0</td>\n",
              "    </tr>\n",
              "    <tr>\n",
              "      <th>1</th>\n",
              "      <td>0</td>\n",
              "    </tr>\n",
              "    <tr>\n",
              "      <th>2</th>\n",
              "      <td>1</td>\n",
              "    </tr>\n",
              "    <tr>\n",
              "      <th>3</th>\n",
              "      <td>1</td>\n",
              "    </tr>\n",
              "    <tr>\n",
              "      <th>4</th>\n",
              "      <td>1</td>\n",
              "    </tr>\n",
              "    <tr>\n",
              "      <th>...</th>\n",
              "      <td>...</td>\n",
              "    </tr>\n",
              "    <tr>\n",
              "      <th>8363</th>\n",
              "      <td>0</td>\n",
              "    </tr>\n",
              "    <tr>\n",
              "      <th>8364</th>\n",
              "      <td>0</td>\n",
              "    </tr>\n",
              "    <tr>\n",
              "      <th>8365</th>\n",
              "      <td>0</td>\n",
              "    </tr>\n",
              "    <tr>\n",
              "      <th>8366</th>\n",
              "      <td>0</td>\n",
              "    </tr>\n",
              "    <tr>\n",
              "      <th>8367</th>\n",
              "      <td>0</td>\n",
              "    </tr>\n",
              "  </tbody>\n",
              "</table>\n",
              "<p>8368 rows × 1 columns</p>\n",
              "</div>\n",
              "      <button class=\"colab-df-convert\" onclick=\"convertToInteractive('df-24401e57-888b-4934-a0b6-da581bdd31b7')\"\n",
              "              title=\"Convert this dataframe to an interactive table.\"\n",
              "              style=\"display:none;\">\n",
              "        \n",
              "  <svg xmlns=\"http://www.w3.org/2000/svg\" height=\"24px\"viewBox=\"0 0 24 24\"\n",
              "       width=\"24px\">\n",
              "    <path d=\"M0 0h24v24H0V0z\" fill=\"none\"/>\n",
              "    <path d=\"M18.56 5.44l.94 2.06.94-2.06 2.06-.94-2.06-.94-.94-2.06-.94 2.06-2.06.94zm-11 1L8.5 8.5l.94-2.06 2.06-.94-2.06-.94L8.5 2.5l-.94 2.06-2.06.94zm10 10l.94 2.06.94-2.06 2.06-.94-2.06-.94-.94-2.06-.94 2.06-2.06.94z\"/><path d=\"M17.41 7.96l-1.37-1.37c-.4-.4-.92-.59-1.43-.59-.52 0-1.04.2-1.43.59L10.3 9.45l-7.72 7.72c-.78.78-.78 2.05 0 2.83L4 21.41c.39.39.9.59 1.41.59.51 0 1.02-.2 1.41-.59l7.78-7.78 2.81-2.81c.8-.78.8-2.07 0-2.86zM5.41 20L4 18.59l7.72-7.72 1.47 1.35L5.41 20z\"/>\n",
              "  </svg>\n",
              "      </button>\n",
              "      \n",
              "  <style>\n",
              "    .colab-df-container {\n",
              "      display:flex;\n",
              "      flex-wrap:wrap;\n",
              "      gap: 12px;\n",
              "    }\n",
              "\n",
              "    .colab-df-convert {\n",
              "      background-color: #E8F0FE;\n",
              "      border: none;\n",
              "      border-radius: 50%;\n",
              "      cursor: pointer;\n",
              "      display: none;\n",
              "      fill: #1967D2;\n",
              "      height: 32px;\n",
              "      padding: 0 0 0 0;\n",
              "      width: 32px;\n",
              "    }\n",
              "\n",
              "    .colab-df-convert:hover {\n",
              "      background-color: #E2EBFA;\n",
              "      box-shadow: 0px 1px 2px rgba(60, 64, 67, 0.3), 0px 1px 3px 1px rgba(60, 64, 67, 0.15);\n",
              "      fill: #174EA6;\n",
              "    }\n",
              "\n",
              "    [theme=dark] .colab-df-convert {\n",
              "      background-color: #3B4455;\n",
              "      fill: #D2E3FC;\n",
              "    }\n",
              "\n",
              "    [theme=dark] .colab-df-convert:hover {\n",
              "      background-color: #434B5C;\n",
              "      box-shadow: 0px 1px 3px 1px rgba(0, 0, 0, 0.15);\n",
              "      filter: drop-shadow(0px 1px 2px rgba(0, 0, 0, 0.3));\n",
              "      fill: #FFFFFF;\n",
              "    }\n",
              "  </style>\n",
              "\n",
              "      <script>\n",
              "        const buttonEl =\n",
              "          document.querySelector('#df-24401e57-888b-4934-a0b6-da581bdd31b7 button.colab-df-convert');\n",
              "        buttonEl.style.display =\n",
              "          google.colab.kernel.accessAllowed ? 'block' : 'none';\n",
              "\n",
              "        async function convertToInteractive(key) {\n",
              "          const element = document.querySelector('#df-24401e57-888b-4934-a0b6-da581bdd31b7');\n",
              "          const dataTable =\n",
              "            await google.colab.kernel.invokeFunction('convertToInteractive',\n",
              "                                                     [key], {});\n",
              "          if (!dataTable) return;\n",
              "\n",
              "          const docLinkHtml = 'Like what you see? Visit the ' +\n",
              "            '<a target=\"_blank\" href=https://colab.research.google.com/notebooks/data_table.ipynb>data table notebook</a>'\n",
              "            + ' to learn more about interactive tables.';\n",
              "          element.innerHTML = '';\n",
              "          dataTable['output_type'] = 'display_data';\n",
              "          await google.colab.output.renderOutput(dataTable, element);\n",
              "          const docLink = document.createElement('div');\n",
              "          docLink.innerHTML = docLinkHtml;\n",
              "          element.appendChild(docLink);\n",
              "        }\n",
              "      </script>\n",
              "    </div>\n",
              "  </div>\n",
              "  "
            ]
          },
          "metadata": {},
          "execution_count": 6
        }
      ]
    },
    {
      "cell_type": "code",
      "source": [
        "y_values.value_counts()"
      ],
      "metadata": {
        "colab": {
          "base_uri": "https://localhost:8080/"
        },
        "id": "xPhuKzajAYpx",
        "outputId": "9b70e971-2f64-495d-dbd4-165fe8cd3ed7"
      },
      "execution_count": 7,
      "outputs": [
        {
          "output_type": "execute_result",
          "data": {
            "text/plain": [
              "match\n",
              "0        6988\n",
              "1        1380\n",
              "dtype: int64"
            ]
          },
          "metadata": {},
          "execution_count": 7
        }
      ]
    },
    {
      "cell_type": "code",
      "source": [
        "del user_df[user_df.columns[5]] #when saving file, a columns unnamed is automatically created at the beginning of the df. Delete it\n",
        "user_df"
      ],
      "metadata": {
        "colab": {
          "base_uri": "https://localhost:8080/",
          "height": 424
        },
        "id": "-kyVdiAg7J1t",
        "outputId": "e6542129-08bc-4b60-98f9-134f1b3664f1"
      },
      "execution_count": 8,
      "outputs": [
        {
          "output_type": "execute_result",
          "data": {
            "text/plain": [
              "      iid    pid  gender       age   imprace  dec_u  std_from\n",
              "0       1   11.0       0 -1.502463 -0.627188      1 -1.097690\n",
              "1       1   12.0       0 -1.502463 -0.627188      1 -1.097690\n",
              "2       1   13.0       0 -1.502463 -0.627188      1 -1.097690\n",
              "3       1   14.0       0 -1.502463 -0.627188      1 -1.097690\n",
              "4       1   15.0       0 -1.502463 -0.627188      1 -1.097690\n",
              "...   ...    ...     ...       ...       ...    ...       ...\n",
              "8363  552  526.0       1 -0.380998 -0.978594      0 -0.798292\n",
              "8364  552  527.0       1 -0.380998 -0.978594      1 -0.798292\n",
              "8365  552  528.0       1 -0.380998 -0.978594      1 -0.798292\n",
              "8366  552  529.0       1 -0.380998 -0.978594      0 -0.798292\n",
              "8367  552  530.0       1 -0.380998 -0.978594      0 -0.798292\n",
              "\n",
              "[8368 rows x 7 columns]"
            ],
            "text/html": [
              "\n",
              "  <div id=\"df-e635405e-0545-4a96-9cb8-565d16de64bc\">\n",
              "    <div class=\"colab-df-container\">\n",
              "      <div>\n",
              "<style scoped>\n",
              "    .dataframe tbody tr th:only-of-type {\n",
              "        vertical-align: middle;\n",
              "    }\n",
              "\n",
              "    .dataframe tbody tr th {\n",
              "        vertical-align: top;\n",
              "    }\n",
              "\n",
              "    .dataframe thead th {\n",
              "        text-align: right;\n",
              "    }\n",
              "</style>\n",
              "<table border=\"1\" class=\"dataframe\">\n",
              "  <thead>\n",
              "    <tr style=\"text-align: right;\">\n",
              "      <th></th>\n",
              "      <th>iid</th>\n",
              "      <th>pid</th>\n",
              "      <th>gender</th>\n",
              "      <th>age</th>\n",
              "      <th>imprace</th>\n",
              "      <th>dec_u</th>\n",
              "      <th>std_from</th>\n",
              "    </tr>\n",
              "  </thead>\n",
              "  <tbody>\n",
              "    <tr>\n",
              "      <th>0</th>\n",
              "      <td>1</td>\n",
              "      <td>11.0</td>\n",
              "      <td>0</td>\n",
              "      <td>-1.502463</td>\n",
              "      <td>-0.627188</td>\n",
              "      <td>1</td>\n",
              "      <td>-1.097690</td>\n",
              "    </tr>\n",
              "    <tr>\n",
              "      <th>1</th>\n",
              "      <td>1</td>\n",
              "      <td>12.0</td>\n",
              "      <td>0</td>\n",
              "      <td>-1.502463</td>\n",
              "      <td>-0.627188</td>\n",
              "      <td>1</td>\n",
              "      <td>-1.097690</td>\n",
              "    </tr>\n",
              "    <tr>\n",
              "      <th>2</th>\n",
              "      <td>1</td>\n",
              "      <td>13.0</td>\n",
              "      <td>0</td>\n",
              "      <td>-1.502463</td>\n",
              "      <td>-0.627188</td>\n",
              "      <td>1</td>\n",
              "      <td>-1.097690</td>\n",
              "    </tr>\n",
              "    <tr>\n",
              "      <th>3</th>\n",
              "      <td>1</td>\n",
              "      <td>14.0</td>\n",
              "      <td>0</td>\n",
              "      <td>-1.502463</td>\n",
              "      <td>-0.627188</td>\n",
              "      <td>1</td>\n",
              "      <td>-1.097690</td>\n",
              "    </tr>\n",
              "    <tr>\n",
              "      <th>4</th>\n",
              "      <td>1</td>\n",
              "      <td>15.0</td>\n",
              "      <td>0</td>\n",
              "      <td>-1.502463</td>\n",
              "      <td>-0.627188</td>\n",
              "      <td>1</td>\n",
              "      <td>-1.097690</td>\n",
              "    </tr>\n",
              "    <tr>\n",
              "      <th>...</th>\n",
              "      <td>...</td>\n",
              "      <td>...</td>\n",
              "      <td>...</td>\n",
              "      <td>...</td>\n",
              "      <td>...</td>\n",
              "      <td>...</td>\n",
              "      <td>...</td>\n",
              "    </tr>\n",
              "    <tr>\n",
              "      <th>8363</th>\n",
              "      <td>552</td>\n",
              "      <td>526.0</td>\n",
              "      <td>1</td>\n",
              "      <td>-0.380998</td>\n",
              "      <td>-0.978594</td>\n",
              "      <td>0</td>\n",
              "      <td>-0.798292</td>\n",
              "    </tr>\n",
              "    <tr>\n",
              "      <th>8364</th>\n",
              "      <td>552</td>\n",
              "      <td>527.0</td>\n",
              "      <td>1</td>\n",
              "      <td>-0.380998</td>\n",
              "      <td>-0.978594</td>\n",
              "      <td>1</td>\n",
              "      <td>-0.798292</td>\n",
              "    </tr>\n",
              "    <tr>\n",
              "      <th>8365</th>\n",
              "      <td>552</td>\n",
              "      <td>528.0</td>\n",
              "      <td>1</td>\n",
              "      <td>-0.380998</td>\n",
              "      <td>-0.978594</td>\n",
              "      <td>1</td>\n",
              "      <td>-0.798292</td>\n",
              "    </tr>\n",
              "    <tr>\n",
              "      <th>8366</th>\n",
              "      <td>552</td>\n",
              "      <td>529.0</td>\n",
              "      <td>1</td>\n",
              "      <td>-0.380998</td>\n",
              "      <td>-0.978594</td>\n",
              "      <td>0</td>\n",
              "      <td>-0.798292</td>\n",
              "    </tr>\n",
              "    <tr>\n",
              "      <th>8367</th>\n",
              "      <td>552</td>\n",
              "      <td>530.0</td>\n",
              "      <td>1</td>\n",
              "      <td>-0.380998</td>\n",
              "      <td>-0.978594</td>\n",
              "      <td>0</td>\n",
              "      <td>-0.798292</td>\n",
              "    </tr>\n",
              "  </tbody>\n",
              "</table>\n",
              "<p>8368 rows × 7 columns</p>\n",
              "</div>\n",
              "      <button class=\"colab-df-convert\" onclick=\"convertToInteractive('df-e635405e-0545-4a96-9cb8-565d16de64bc')\"\n",
              "              title=\"Convert this dataframe to an interactive table.\"\n",
              "              style=\"display:none;\">\n",
              "        \n",
              "  <svg xmlns=\"http://www.w3.org/2000/svg\" height=\"24px\"viewBox=\"0 0 24 24\"\n",
              "       width=\"24px\">\n",
              "    <path d=\"M0 0h24v24H0V0z\" fill=\"none\"/>\n",
              "    <path d=\"M18.56 5.44l.94 2.06.94-2.06 2.06-.94-2.06-.94-.94-2.06-.94 2.06-2.06.94zm-11 1L8.5 8.5l.94-2.06 2.06-.94-2.06-.94L8.5 2.5l-.94 2.06-2.06.94zm10 10l.94 2.06.94-2.06 2.06-.94-2.06-.94-.94-2.06-.94 2.06-2.06.94z\"/><path d=\"M17.41 7.96l-1.37-1.37c-.4-.4-.92-.59-1.43-.59-.52 0-1.04.2-1.43.59L10.3 9.45l-7.72 7.72c-.78.78-.78 2.05 0 2.83L4 21.41c.39.39.9.59 1.41.59.51 0 1.02-.2 1.41-.59l7.78-7.78 2.81-2.81c.8-.78.8-2.07 0-2.86zM5.41 20L4 18.59l7.72-7.72 1.47 1.35L5.41 20z\"/>\n",
              "  </svg>\n",
              "      </button>\n",
              "      \n",
              "  <style>\n",
              "    .colab-df-container {\n",
              "      display:flex;\n",
              "      flex-wrap:wrap;\n",
              "      gap: 12px;\n",
              "    }\n",
              "\n",
              "    .colab-df-convert {\n",
              "      background-color: #E8F0FE;\n",
              "      border: none;\n",
              "      border-radius: 50%;\n",
              "      cursor: pointer;\n",
              "      display: none;\n",
              "      fill: #1967D2;\n",
              "      height: 32px;\n",
              "      padding: 0 0 0 0;\n",
              "      width: 32px;\n",
              "    }\n",
              "\n",
              "    .colab-df-convert:hover {\n",
              "      background-color: #E2EBFA;\n",
              "      box-shadow: 0px 1px 2px rgba(60, 64, 67, 0.3), 0px 1px 3px 1px rgba(60, 64, 67, 0.15);\n",
              "      fill: #174EA6;\n",
              "    }\n",
              "\n",
              "    [theme=dark] .colab-df-convert {\n",
              "      background-color: #3B4455;\n",
              "      fill: #D2E3FC;\n",
              "    }\n",
              "\n",
              "    [theme=dark] .colab-df-convert:hover {\n",
              "      background-color: #434B5C;\n",
              "      box-shadow: 0px 1px 3px 1px rgba(0, 0, 0, 0.15);\n",
              "      filter: drop-shadow(0px 1px 2px rgba(0, 0, 0, 0.3));\n",
              "      fill: #FFFFFF;\n",
              "    }\n",
              "  </style>\n",
              "\n",
              "      <script>\n",
              "        const buttonEl =\n",
              "          document.querySelector('#df-e635405e-0545-4a96-9cb8-565d16de64bc button.colab-df-convert');\n",
              "        buttonEl.style.display =\n",
              "          google.colab.kernel.accessAllowed ? 'block' : 'none';\n",
              "\n",
              "        async function convertToInteractive(key) {\n",
              "          const element = document.querySelector('#df-e635405e-0545-4a96-9cb8-565d16de64bc');\n",
              "          const dataTable =\n",
              "            await google.colab.kernel.invokeFunction('convertToInteractive',\n",
              "                                                     [key], {});\n",
              "          if (!dataTable) return;\n",
              "\n",
              "          const docLinkHtml = 'Like what you see? Visit the ' +\n",
              "            '<a target=\"_blank\" href=https://colab.research.google.com/notebooks/data_table.ipynb>data table notebook</a>'\n",
              "            + ' to learn more about interactive tables.';\n",
              "          element.innerHTML = '';\n",
              "          dataTable['output_type'] = 'display_data';\n",
              "          await google.colab.output.renderOutput(dataTable, element);\n",
              "          const docLink = document.createElement('div');\n",
              "          docLink.innerHTML = docLinkHtml;\n",
              "          element.appendChild(docLink);\n",
              "        }\n",
              "      </script>\n",
              "    </div>\n",
              "  </div>\n",
              "  "
            ]
          },
          "metadata": {},
          "execution_count": 8
        }
      ]
    },
    {
      "cell_type": "markdown",
      "source": [
        "## **Contet-based Filtering**"
      ],
      "metadata": {
        "id": "2DRGmPYb-0--"
      }
    },
    {
      "cell_type": "markdown",
      "source": [
        "Nos données sont maintenant prêtes à être introduites dans le modèle. J'ai opté pour une approche Deep Learning (d'apprentissage profond). L'idée est de créer 2 réseaux neuronaux convolutionnaires distincts, un pour les utilisateurs et un pour les articles/partenaires. Les réseaux neuronaux vont créer des vecteurs pour chaque utilisateur et partenaire de telle sorte que les 2 vecteurs résultants soient de même dimension (32 unités), Vu et Vp respectivement. De cette façon, quel que soit le nombre de caractéristiques d'entrée de l'utilisateur ou du partenaire, à la fin, ils seront tous deux de la même dimension dans ces vecteurs.\n",
        "\n",
        "Le produit scalaire des résultats de ces deux réseaux neuronaux constituera notre prédiction, P= Vu * Vp. Un diagramme de l'architecture peut être vu ci-dessous"
      ],
      "metadata": {
        "id": "UpsQvuQE-7zt"
      }
    },
    {
      "cell_type": "markdown",
      "source": [
        "![image.png](data:image/png;base64,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)"
      ],
      "metadata": {
        "id": "l7oRUQQBBUz7"
      }
    },
    {
      "cell_type": "code",
      "source": [
        "user_df.shape"
      ],
      "metadata": {
        "colab": {
          "base_uri": "https://localhost:8080/"
        },
        "id": "QslUvCFp7W6g",
        "outputId": "f171aafc-31cc-402c-d4c8-77db7d88e0bb"
      },
      "execution_count": 9,
      "outputs": [
        {
          "output_type": "execute_result",
          "data": {
            "text/plain": [
              "(8368, 7)"
            ]
          },
          "metadata": {},
          "execution_count": 9
        }
      ]
    },
    {
      "cell_type": "code",
      "source": [
        "num_user_features = user_df.shape[1] - 2  # remove iid and pid during training\n",
        "num_partner_features = partners_df.shape[1] - 1  # remove pid at train time\n",
        "u_s = 2  # start of columns to use in training, user\n",
        "p_s = 1  # start of columns to use in training, partner\n",
        "num_user_features"
      ],
      "metadata": {
        "colab": {
          "base_uri": "https://localhost:8080/"
        },
        "id": "1mdkRHzfCDij",
        "outputId": "4eed1c96-7b92-4371-b6e4-69a34c4b54fd"
      },
      "execution_count": 10,
      "outputs": [
        {
          "output_type": "execute_result",
          "data": {
            "text/plain": [
              "5"
            ]
          },
          "metadata": {},
          "execution_count": 10
        }
      ]
    },
    {
      "cell_type": "markdown",
      "source": [
        "**Data splitting into train and test sets**"
      ],
      "metadata": {
        "id": "9FyJ0Zq4DkjC"
      }
    },
    {
      "cell_type": "code",
      "source": [
        "from sklearn.model_selection import train_test_split"
      ],
      "metadata": {
        "id": "2PBVzOLEDCoe"
      },
      "execution_count": 11,
      "outputs": []
    },
    {
      "cell_type": "code",
      "source": [
        "user_train, user_test = train_test_split(user_df, train_size=0.80, shuffle=True, random_state=1)\n",
        "partner_train, partner_test = train_test_split(partners_df, train_size=0.80, shuffle=True, random_state=1)\n",
        "y_train, y_test       = train_test_split(y_values,    train_size=0.80, shuffle=True, random_state=1)\n",
        "print(f\"Forme des données d'entrainement de l'utilisateur: {user_train.shape}\")\n",
        "print(f\"Forme des données de test de l'utilisateur: {user_train.shape}\")"
      ],
      "metadata": {
        "colab": {
          "base_uri": "https://localhost:8080/"
        },
        "id": "0BCa3pl5CzYt",
        "outputId": "eb11b1d3-67d0-40ce-d545-bbb0725028c0"
      },
      "execution_count": 12,
      "outputs": [
        {
          "output_type": "stream",
          "name": "stdout",
          "text": [
            "Forme des données d'entrainement de l'utilisateur: (6694, 7)\n",
            "Forme des données de test de l'utilisateur: (6694, 7)\n"
          ]
        }
      ]
    },
    {
      "cell_type": "code",
      "source": [
        "y_test.value_counts()"
      ],
      "metadata": {
        "colab": {
          "base_uri": "https://localhost:8080/"
        },
        "id": "C7FStE5QA9-n",
        "outputId": "b75236aa-579b-455d-eb09-f081809e9093"
      },
      "execution_count": 13,
      "outputs": [
        {
          "output_type": "execute_result",
          "data": {
            "text/plain": [
              "match\n",
              "0        1382\n",
              "1         292\n",
              "dtype: int64"
            ]
          },
          "metadata": {},
          "execution_count": 13
        }
      ]
    },
    {
      "cell_type": "code",
      "source": [
        "y_train_ = y_train.to_numpy()\n",
        "y_test_=y_test.to_numpy()"
      ],
      "metadata": {
        "id": "RwCpVKWgCQIZ"
      },
      "execution_count": 14,
      "outputs": []
    },
    {
      "cell_type": "code",
      "source": [
        "from sklearn.preprocessing import MinMaxScaler\n",
        "scaler = MinMaxScaler((-1, 1))\n",
        "scaler.fit(y_train_.reshape(-1, 1))\n",
        "ynorm_train = scaler.transform(y_train_.reshape(-1, 1))\n",
        "ynorm_test = scaler.transform(y_test_.reshape(-1, 1))\n",
        "print(ynorm_train.shape, ynorm_test.shape)"
      ],
      "metadata": {
        "colab": {
          "base_uri": "https://localhost:8080/"
        },
        "id": "Gy6OI1YYB-WN",
        "outputId": "8e94bdca-99ed-4beb-bf7d-e39fa681bf05"
      },
      "execution_count": 15,
      "outputs": [
        {
          "output_type": "stream",
          "name": "stdout",
          "text": [
            "(6694, 1) (1674, 1)\n"
          ]
        }
      ]
    },
    {
      "cell_type": "markdown",
      "source": [
        "- J'ai utilisé un modèle séquentiel Keras\n",
        "    - La première couche est une couche dense avec 256 unités et une activation relu.\n",
        "    - La deuxième couche est une couche dense avec 128 unités et une activation relu.\n",
        "    - La troisième couche est une couche dense avec 32 unités et une activation linéaire ou aucune activation."
      ],
      "metadata": {
        "id": "PwelUs1dFyzJ"
      }
    },
    {
      "cell_type": "code",
      "source": [
        "import tensorflow as tf\n",
        "from tensorflow import keras\n",
        "from tensorflow.keras import layers"
      ],
      "metadata": {
        "id": "tzRsoGZeEOmL"
      },
      "execution_count": 16,
      "outputs": []
    },
    {
      "cell_type": "code",
      "source": [
        "# GRADED_CELL\n",
        "# UNQ_C1\n",
        "\n",
        "# num_outputs = 32\n",
        "tf.random.set_seed(1)\n",
        "user_NN = tf.keras.models.Sequential([\n",
        "  tf.keras.layers.Dense(256, activation='tanh'),\n",
        "  tf.keras.layers.Dense(128, activation='tanh'),\n",
        "  tf.keras.layers.Dense(32)#,activation='sigmoid'), \n",
        "])\n",
        "\n",
        "partner_NN = tf.keras.models.Sequential([\n",
        "  tf.keras.layers.Dense(256, activation='tanh'),\n",
        "  tf.keras.layers.Dense(128, activation='tanh'),\n",
        "  tf.keras.layers.Dense(32)#,activation='sigmoid'), \n",
        "])\n",
        "\n",
        "# create the user input and point to the base network\n",
        "input_user = tf.keras.layers.Input(shape=(num_user_features))\n",
        "vu = user_NN(input_user)\n",
        "vu = tf.linalg.l2_normalize(vu, axis=1,epsilon=1e-12)\n",
        "print(vu)\n",
        "\n",
        "# create the item input and point to the base network\n",
        "input_partner = tf.keras.layers.Input(shape=(num_partner_features))\n",
        "vp = partner_NN(input_partner)\n",
        "vp = tf.linalg.l2_normalize(vp, axis=1,epsilon=1e-12)\n",
        "print(vp)\n",
        "\n",
        "# compute the dot product of the two vectors vu and vm\n",
        "output = tf.keras.layers.Dot(axes=1)([vu, vp])\n",
        "print(output)\n",
        "\n",
        "# specify the inputs and output of the model\n",
        "model = keras.Model([input_user, input_partner], output)\n",
        "\n",
        "model.summary()"
      ],
      "metadata": {
        "colab": {
          "base_uri": "https://localhost:8080/"
        },
        "id": "iA3hYMqrF67v",
        "outputId": "0a7ae76b-f063-4147-83f7-a8705b778955"
      },
      "execution_count": 17,
      "outputs": [
        {
          "output_type": "stream",
          "name": "stdout",
          "text": [
            "KerasTensor(type_spec=TensorSpec(shape=(None, 32), dtype=tf.float32, name=None), name='tf.math.l2_normalize/l2_normalize:0', description=\"created by layer 'tf.math.l2_normalize'\")\n",
            "KerasTensor(type_spec=TensorSpec(shape=(None, 32), dtype=tf.float32, name=None), name='tf.math.l2_normalize_1/l2_normalize:0', description=\"created by layer 'tf.math.l2_normalize_1'\")\n",
            "KerasTensor(type_spec=TensorSpec(shape=(None, 1), dtype=tf.float32, name=None), name='dot/Squeeze:0', description=\"created by layer 'dot'\")\n",
            "Model: \"model\"\n",
            "__________________________________________________________________________________________________\n",
            " Layer (type)                   Output Shape         Param #     Connected to                     \n",
            "==================================================================================================\n",
            " input_1 (InputLayer)           [(None, 5)]          0           []                               \n",
            "                                                                                                  \n",
            " input_2 (InputLayer)           [(None, 6)]          0           []                               \n",
            "                                                                                                  \n",
            " sequential (Sequential)        (None, 32)           38560       ['input_1[0][0]']                \n",
            "                                                                                                  \n",
            " sequential_1 (Sequential)      (None, 32)           38816       ['input_2[0][0]']                \n",
            "                                                                                                  \n",
            " tf.math.l2_normalize (TFOpLamb  (None, 32)          0           ['sequential[0][0]']             \n",
            " da)                                                                                              \n",
            "                                                                                                  \n",
            " tf.math.l2_normalize_1 (TFOpLa  (None, 32)          0           ['sequential_1[0][0]']           \n",
            " mbda)                                                                                            \n",
            "                                                                                                  \n",
            " dot (Dot)                      (None, 1)            0           ['tf.math.l2_normalize[0][0]',   \n",
            "                                                                  'tf.math.l2_normalize_1[0][0]'] \n",
            "                                                                                                  \n",
            "==================================================================================================\n",
            "Total params: 77,376\n",
            "Trainable params: 77,376\n",
            "Non-trainable params: 0\n",
            "__________________________________________________________________________________________________\n"
          ]
        }
      ]
    },
    {
      "cell_type": "code",
      "source": [
        "tf.random.set_seed(1)\n",
        "partner_NN = tf.keras.models.Sequential([\n",
        "  tf.keras.layers.Input(shape=(num_partner_features)),\n",
        "  tf.keras.layers.Dense(256, activation='tanh'),\n",
        "  tf.keras.layers.Dense(128, activation='tanh'),\n",
        "  tf.keras.layers.Dense(32)#,activation='sigmoid'), \n",
        "])\n",
        "# create the item input and point to the base network\n",
        "# input_partner = tf.keras.layers.Input(shape=(num_partner_features))\n",
        "# vp = partner_NN(input_partner)\n",
        "# vp = tf.linalg.l2_normalize(vp, axis=1,epsilon=1e-12)\n",
        "# vp.predict(partner_df)\n",
        "p_vecs=partner_NN.predict(partners_df.iloc[:,1:])\n",
        "p_vecs.shape"
      ],
      "metadata": {
        "colab": {
          "base_uri": "https://localhost:8080/"
        },
        "id": "tdUYt47z0Z3i",
        "outputId": "a8196b7e-d9ca-444d-8418-826624aa2a67"
      },
      "execution_count": 18,
      "outputs": [
        {
          "output_type": "execute_result",
          "data": {
            "text/plain": [
              "(8368, 32)"
            ]
          },
          "metadata": {},
          "execution_count": 18
        }
      ]
    },
    {
      "cell_type": "code",
      "source": [
        "len(p_vecs)"
      ],
      "metadata": {
        "colab": {
          "base_uri": "https://localhost:8080/"
        },
        "id": "aC3XwRL520gB",
        "outputId": "0cb3af5e-4c17-4168-f97a-a94177b2e0b6"
      },
      "execution_count": 19,
      "outputs": [
        {
          "output_type": "execute_result",
          "data": {
            "text/plain": [
              "8368"
            ]
          },
          "metadata": {},
          "execution_count": 19
        }
      ]
    },
    {
      "cell_type": "markdown",
      "source": [
        "Je vais utiliser un optimiseur Adam avec un taux d'apprentissage de 0,01, et je vais entraîner le modèle sur 30 époques.J'ai utilisé la fonction de perte binary_crossentropy car il s'agit d'un problème de classification binaire."
      ],
      "metadata": {
        "id": "KaGdNlIJK0vP"
      }
    },
    {
      "cell_type": "code",
      "source": [
        "tf.random.set_seed(1)\n",
        "cost_fn = tf.keras.losses.MeanSquaredError()\n",
        "opt = keras.optimizers.Adam(learning_rate=0.01)\n",
        "model.compile(optimizer=opt,\n",
        "              loss=cost_fn)"
      ],
      "metadata": {
        "id": "EQ5e1MM5I_P7"
      },
      "execution_count": 20,
      "outputs": []
    },
    {
      "cell_type": "code",
      "source": [
        "model.compile(\n",
        "    # loss=keras.losses.SparseCategoricalCrossentropy(from_logits=True),\n",
        "    loss='binary_crossentropy', #tf.keras.losses.BinaryCrossentropy(),\n",
        "    optimizer=keras.optimizers.Adam(learning_rate=0.05),#keras.optimizers.RMSprop(learning_rate=3e-4),#SGD(learning_rate=0,momentum=0.9,nesterov=False, name=\"SDG\"),\n",
        "    metrics=[\"accuracy\"],\n",
        ")"
      ],
      "metadata": {
        "id": "6vX9R_mHORka"
      },
      "execution_count": 21,
      "outputs": []
    },
    {
      "cell_type": "code",
      "source": [
        "tf.random.set_seed(1)\n",
        "model.fit([user_train.iloc[:, u_s:], partner_train.iloc[:, p_s:]], y_train, epochs=100)"
      ],
      "metadata": {
        "colab": {
          "base_uri": "https://localhost:8080/"
        },
        "id": "ojuDwsjeLJJG",
        "outputId": "08c4d418-ba31-4b30-fd88-c505bc027301"
      },
      "execution_count": 22,
      "outputs": [
        {
          "output_type": "stream",
          "name": "stdout",
          "text": [
            "Epoch 1/100\n",
            "210/210 [==============================] - 2s 3ms/step - loss: 1.6764 - accuracy: 0.8106\n",
            "Epoch 2/100\n",
            "210/210 [==============================] - 1s 3ms/step - loss: 2.4611 - accuracy: 0.8218\n",
            "Epoch 3/100\n",
            "210/210 [==============================] - 1s 3ms/step - loss: 2.2991 - accuracy: 0.8297\n",
            "Epoch 4/100\n",
            "210/210 [==============================] - 1s 3ms/step - loss: 0.7386 - accuracy: 0.7556\n",
            "Epoch 5/100\n",
            "210/210 [==============================] - 1s 3ms/step - loss: 0.4913 - accuracy: 0.8375\n",
            "Epoch 6/100\n",
            "210/210 [==============================] - 1s 3ms/step - loss: 0.4720 - accuracy: 0.8375\n",
            "Epoch 7/100\n",
            "210/210 [==============================] - 1s 3ms/step - loss: 0.4449 - accuracy: 0.8375\n",
            "Epoch 8/100\n",
            "210/210 [==============================] - 1s 3ms/step - loss: 0.4289 - accuracy: 0.8375\n",
            "Epoch 9/100\n",
            "210/210 [==============================] - 1s 3ms/step - loss: 0.4522 - accuracy: 0.8373\n",
            "Epoch 10/100\n",
            "210/210 [==============================] - 1s 3ms/step - loss: 0.4664 - accuracy: 0.8279\n",
            "Epoch 11/100\n",
            "210/210 [==============================] - 1s 3ms/step - loss: 1.3165 - accuracy: 0.8324\n",
            "Epoch 12/100\n",
            "210/210 [==============================] - 1s 3ms/step - loss: 2.1757 - accuracy: 0.8352\n",
            "Epoch 13/100\n",
            "210/210 [==============================] - 1s 3ms/step - loss: 2.1456 - accuracy: 0.8375\n",
            "Epoch 14/100\n",
            "210/210 [==============================] - 1s 3ms/step - loss: 2.1432 - accuracy: 0.8375\n",
            "Epoch 15/100\n",
            "210/210 [==============================] - 1s 3ms/step - loss: 2.1420 - accuracy: 0.8375\n",
            "Epoch 16/100\n",
            "210/210 [==============================] - 1s 3ms/step - loss: 2.1415 - accuracy: 0.8375\n",
            "Epoch 17/100\n",
            "210/210 [==============================] - 1s 3ms/step - loss: 2.1403 - accuracy: 0.8375\n",
            "Epoch 18/100\n",
            "210/210 [==============================] - 1s 3ms/step - loss: 2.1401 - accuracy: 0.8375\n",
            "Epoch 19/100\n",
            "210/210 [==============================] - 1s 3ms/step - loss: 2.1398 - accuracy: 0.8375\n",
            "Epoch 20/100\n",
            "210/210 [==============================] - 1s 3ms/step - loss: 2.1391 - accuracy: 0.8375\n",
            "Epoch 21/100\n",
            "210/210 [==============================] - 1s 3ms/step - loss: 2.1387 - accuracy: 0.8375\n",
            "Epoch 22/100\n",
            "210/210 [==============================] - 1s 3ms/step - loss: 2.1394 - accuracy: 0.8375\n",
            "Epoch 23/100\n",
            "210/210 [==============================] - 1s 3ms/step - loss: 2.1392 - accuracy: 0.8375\n",
            "Epoch 24/100\n",
            "210/210 [==============================] - 1s 3ms/step - loss: 2.1393 - accuracy: 0.8375\n",
            "Epoch 25/100\n",
            "210/210 [==============================] - 1s 3ms/step - loss: 2.1382 - accuracy: 0.8375\n",
            "Epoch 26/100\n",
            "210/210 [==============================] - 1s 3ms/step - loss: 2.1385 - accuracy: 0.8375\n",
            "Epoch 27/100\n",
            "210/210 [==============================] - 1s 3ms/step - loss: 2.1391 - accuracy: 0.8375\n",
            "Epoch 28/100\n",
            "210/210 [==============================] - 1s 3ms/step - loss: 2.1390 - accuracy: 0.8373\n",
            "Epoch 29/100\n",
            "210/210 [==============================] - 1s 3ms/step - loss: 2.1454 - accuracy: 0.8375\n",
            "Epoch 30/100\n",
            "210/210 [==============================] - 1s 3ms/step - loss: 2.1584 - accuracy: 0.8192\n",
            "Epoch 31/100\n",
            "210/210 [==============================] - 1s 3ms/step - loss: 2.1420 - accuracy: 0.8375\n",
            "Epoch 32/100\n",
            "210/210 [==============================] - 1s 3ms/step - loss: 2.1436 - accuracy: 0.8376\n",
            "Epoch 33/100\n",
            "210/210 [==============================] - 1s 3ms/step - loss: 1.1944 - accuracy: 0.8221\n",
            "Epoch 34/100\n",
            "210/210 [==============================] - 1s 3ms/step - loss: 0.5858 - accuracy: 0.8279\n",
            "Epoch 35/100\n",
            "210/210 [==============================] - 1s 3ms/step - loss: 0.4235 - accuracy: 0.8346\n",
            "Epoch 36/100\n",
            "210/210 [==============================] - 1s 4ms/step - loss: 0.4016 - accuracy: 0.8375\n",
            "Epoch 37/100\n",
            "210/210 [==============================] - 1s 3ms/step - loss: 0.3976 - accuracy: 0.8375\n",
            "Epoch 38/100\n",
            "210/210 [==============================] - 1s 3ms/step - loss: 0.3918 - accuracy: 0.8375\n",
            "Epoch 39/100\n",
            "210/210 [==============================] - 1s 3ms/step - loss: 0.3894 - accuracy: 0.8375\n",
            "Epoch 40/100\n",
            "210/210 [==============================] - 1s 3ms/step - loss: 0.3877 - accuracy: 0.8375\n",
            "Epoch 41/100\n",
            "210/210 [==============================] - 1s 3ms/step - loss: 0.3931 - accuracy: 0.8375\n",
            "Epoch 42/100\n",
            "210/210 [==============================] - 1s 3ms/step - loss: 0.3899 - accuracy: 0.8373\n",
            "Epoch 43/100\n",
            "210/210 [==============================] - 1s 4ms/step - loss: 0.3842 - accuracy: 0.8375\n",
            "Epoch 44/100\n",
            "210/210 [==============================] - 1s 3ms/step - loss: 0.3891 - accuracy: 0.8375\n",
            "Epoch 45/100\n",
            "210/210 [==============================] - 1s 3ms/step - loss: 0.3866 - accuracy: 0.8375\n",
            "Epoch 46/100\n",
            "210/210 [==============================] - 1s 3ms/step - loss: 0.3840 - accuracy: 0.8375\n",
            "Epoch 47/100\n",
            "210/210 [==============================] - 1s 3ms/step - loss: 0.3860 - accuracy: 0.8375\n",
            "Epoch 48/100\n",
            "210/210 [==============================] - 1s 3ms/step - loss: 0.3827 - accuracy: 0.8375\n",
            "Epoch 49/100\n",
            "210/210 [==============================] - 1s 3ms/step - loss: 0.3956 - accuracy: 0.8375\n",
            "Epoch 50/100\n",
            "210/210 [==============================] - 1s 4ms/step - loss: 0.3922 - accuracy: 0.8375\n",
            "Epoch 51/100\n",
            "210/210 [==============================] - 1s 5ms/step - loss: 0.4000 - accuracy: 0.8373\n",
            "Epoch 52/100\n",
            "210/210 [==============================] - 1s 6ms/step - loss: 0.3877 - accuracy: 0.8375\n",
            "Epoch 53/100\n",
            "210/210 [==============================] - 1s 4ms/step - loss: 0.3832 - accuracy: 0.8375\n",
            "Epoch 54/100\n",
            "210/210 [==============================] - 1s 3ms/step - loss: 0.3909 - accuracy: 0.8340\n",
            "Epoch 55/100\n",
            "210/210 [==============================] - 1s 4ms/step - loss: 0.3836 - accuracy: 0.8375\n",
            "Epoch 56/100\n",
            "210/210 [==============================] - 1s 3ms/step - loss: 0.3852 - accuracy: 0.8375\n",
            "Epoch 57/100\n",
            "210/210 [==============================] - 1s 3ms/step - loss: 0.3853 - accuracy: 0.8376\n",
            "Epoch 58/100\n",
            "210/210 [==============================] - 1s 3ms/step - loss: 0.3855 - accuracy: 0.8375\n",
            "Epoch 59/100\n",
            "210/210 [==============================] - 1s 3ms/step - loss: 0.3851 - accuracy: 0.8375\n",
            "Epoch 60/100\n",
            "210/210 [==============================] - 1s 3ms/step - loss: 0.3848 - accuracy: 0.8375\n",
            "Epoch 61/100\n",
            "210/210 [==============================] - 1s 3ms/step - loss: 0.3820 - accuracy: 0.8372\n",
            "Epoch 62/100\n",
            "210/210 [==============================] - 1s 3ms/step - loss: 0.3868 - accuracy: 0.8367\n",
            "Epoch 63/100\n",
            "210/210 [==============================] - 1s 3ms/step - loss: 0.3823 - accuracy: 0.8370\n",
            "Epoch 64/100\n",
            "210/210 [==============================] - 1s 3ms/step - loss: 0.3859 - accuracy: 0.8376\n",
            "Epoch 65/100\n",
            "210/210 [==============================] - 1s 4ms/step - loss: 0.3937 - accuracy: 0.8325\n",
            "Epoch 66/100\n",
            "210/210 [==============================] - 1s 3ms/step - loss: 0.3976 - accuracy: 0.8375\n",
            "Epoch 67/100\n",
            "210/210 [==============================] - 1s 3ms/step - loss: 0.3974 - accuracy: 0.8376\n",
            "Epoch 68/100\n",
            "210/210 [==============================] - 1s 3ms/step - loss: 0.3843 - accuracy: 0.8381\n",
            "Epoch 69/100\n",
            "210/210 [==============================] - 1s 4ms/step - loss: 0.4353 - accuracy: 0.7967\n",
            "Epoch 70/100\n",
            "210/210 [==============================] - 1s 3ms/step - loss: 0.3973 - accuracy: 0.8366\n",
            "Epoch 71/100\n",
            "210/210 [==============================] - 1s 3ms/step - loss: 0.4106 - accuracy: 0.8125\n",
            "Epoch 72/100\n",
            "210/210 [==============================] - 1s 3ms/step - loss: 0.4029 - accuracy: 0.8367\n",
            "Epoch 73/100\n",
            "210/210 [==============================] - 1s 3ms/step - loss: 0.3818 - accuracy: 0.8373\n",
            "Epoch 74/100\n",
            "210/210 [==============================] - 1s 3ms/step - loss: 0.3866 - accuracy: 0.8379\n",
            "Epoch 75/100\n",
            "210/210 [==============================] - 1s 3ms/step - loss: 0.3825 - accuracy: 0.8379\n",
            "Epoch 76/100\n",
            "210/210 [==============================] - 1s 3ms/step - loss: 0.3845 - accuracy: 0.8376\n",
            "Epoch 77/100\n",
            "210/210 [==============================] - 1s 3ms/step - loss: 0.3800 - accuracy: 0.8384\n",
            "Epoch 78/100\n",
            "210/210 [==============================] - 1s 3ms/step - loss: 0.4075 - accuracy: 0.8228\n",
            "Epoch 79/100\n",
            "210/210 [==============================] - 1s 3ms/step - loss: 0.3869 - accuracy: 0.8373\n",
            "Epoch 80/100\n",
            "210/210 [==============================] - 1s 3ms/step - loss: 0.3967 - accuracy: 0.8375\n",
            "Epoch 81/100\n",
            "210/210 [==============================] - 1s 3ms/step - loss: 0.4151 - accuracy: 0.8367\n",
            "Epoch 82/100\n",
            "210/210 [==============================] - 1s 3ms/step - loss: 0.3820 - accuracy: 0.8385\n",
            "Epoch 83/100\n",
            "210/210 [==============================] - 1s 3ms/step - loss: 0.4495 - accuracy: 0.8003\n",
            "Epoch 84/100\n",
            "210/210 [==============================] - 1s 3ms/step - loss: 0.3838 - accuracy: 0.8378\n",
            "Epoch 85/100\n",
            "210/210 [==============================] - 1s 3ms/step - loss: 0.3781 - accuracy: 0.8378\n",
            "Epoch 86/100\n",
            "210/210 [==============================] - 1s 3ms/step - loss: 0.3768 - accuracy: 0.8376\n",
            "Epoch 87/100\n",
            "210/210 [==============================] - 1s 3ms/step - loss: 0.3775 - accuracy: 0.8375\n",
            "Epoch 88/100\n",
            "210/210 [==============================] - 1s 3ms/step - loss: 0.3773 - accuracy: 0.8379\n",
            "Epoch 89/100\n",
            "210/210 [==============================] - 1s 3ms/step - loss: 0.3737 - accuracy: 0.8376\n",
            "Epoch 90/100\n",
            "210/210 [==============================] - 1s 3ms/step - loss: 0.4123 - accuracy: 0.8224\n",
            "Epoch 91/100\n",
            "210/210 [==============================] - 1s 3ms/step - loss: 0.3844 - accuracy: 0.8375\n",
            "Epoch 92/100\n",
            "210/210 [==============================] - 1s 3ms/step - loss: 0.3768 - accuracy: 0.8375\n",
            "Epoch 93/100\n",
            "210/210 [==============================] - 1s 3ms/step - loss: 0.3795 - accuracy: 0.8373\n",
            "Epoch 94/100\n",
            "210/210 [==============================] - 1s 3ms/step - loss: 0.3776 - accuracy: 0.8375\n",
            "Epoch 95/100\n",
            "210/210 [==============================] - 1s 3ms/step - loss: 0.4031 - accuracy: 0.8131\n",
            "Epoch 96/100\n",
            "210/210 [==============================] - 1s 3ms/step - loss: 0.4563 - accuracy: 0.8236\n",
            "Epoch 97/100\n",
            "210/210 [==============================] - 1s 4ms/step - loss: 0.3882 - accuracy: 0.8375\n",
            "Epoch 98/100\n",
            "210/210 [==============================] - 1s 7ms/step - loss: 0.3813 - accuracy: 0.8375\n",
            "Epoch 99/100\n",
            "210/210 [==============================] - 2s 7ms/step - loss: 0.3772 - accuracy: 0.8375\n",
            "Epoch 100/100\n",
            "210/210 [==============================] - 1s 6ms/step - loss: 0.3768 - accuracy: 0.8375\n"
          ]
        },
        {
          "output_type": "execute_result",
          "data": {
            "text/plain": [
              "<keras.callbacks.History at 0x7fcdc99be590>"
            ]
          },
          "metadata": {},
          "execution_count": 22
        }
      ]
    },
    {
      "cell_type": "code",
      "source": [
        "model.evaluate([user_test.iloc[:, u_s:], partner_test.iloc[:, p_s:]], y_test)"
      ],
      "metadata": {
        "colab": {
          "base_uri": "https://localhost:8080/"
        },
        "id": "prtRVrVXL1Gd",
        "outputId": "02598810-6e62-4473-e529-8830bbb0714b"
      },
      "execution_count": 23,
      "outputs": [
        {
          "output_type": "stream",
          "name": "stdout",
          "text": [
            "53/53 [==============================] - 1s 4ms/step - loss: 0.4203 - accuracy: 0.8256\n"
          ]
        },
        {
          "output_type": "execute_result",
          "data": {
            "text/plain": [
              "[0.42029324173927307, 0.8255674839019775]"
            ]
          },
          "metadata": {},
          "execution_count": 23
        }
      ]
    },
    {
      "cell_type": "code",
      "source": [
        "model.predict([user_test.iloc[:, u_s:], partner_test.iloc[:, p_s:]])"
      ],
      "metadata": {
        "colab": {
          "base_uri": "https://localhost:8080/"
        },
        "id": "1gSvEVM85l2E",
        "outputId": "f4eb369e-be35-4b66-98b7-c2fb5cabe0d8"
      },
      "execution_count": 24,
      "outputs": [
        {
          "output_type": "execute_result",
          "data": {
            "text/plain": [
              "array([[-0.02382717],\n",
              "       [-0.0589887 ],\n",
              "       [ 0.17698671],\n",
              "       ...,\n",
              "       [ 0.17264883],\n",
              "       [-0.06238994],\n",
              "       [ 0.25192684]], dtype=float32)"
            ]
          },
          "metadata": {},
          "execution_count": 24
        }
      ]
    },
    {
      "cell_type": "code",
      "source": [
        "def result(pred):\n",
        "  m= pred.shape[0]\n",
        "  Y_pred=np.zeros((m,1))\n",
        "\n",
        "  for i in range(pred.shape[0]):\n",
        "    # print(pred[i][0])\n",
        "    Y_pred[i][0]= 1 if pred[i][0]>0 else 0\n",
        "\n",
        "  return Y_pred"
      ],
      "metadata": {
        "id": "iNqBH18m65EB"
      },
      "execution_count": 25,
      "outputs": []
    },
    {
      "cell_type": "code",
      "source": [
        "o=model.predict([user_test.iloc[:, u_s:], partner_test.iloc[:, p_s:]])\n",
        "result(o)"
      ],
      "metadata": {
        "colab": {
          "base_uri": "https://localhost:8080/"
        },
        "id": "-LmhHygR86Dh",
        "outputId": "e1ff1c09-5b0c-4058-d3be-27830c662b38"
      },
      "execution_count": 26,
      "outputs": [
        {
          "output_type": "execute_result",
          "data": {
            "text/plain": [
              "array([[0.],\n",
              "       [0.],\n",
              "       [1.],\n",
              "       ...,\n",
              "       [1.],\n",
              "       [0.],\n",
              "       [1.]])"
            ]
          },
          "metadata": {},
          "execution_count": 26
        }
      ]
    },
    {
      "cell_type": "markdown",
      "source": [
        "**Recommandations de personnes non \n",
        "rencontrées**"
      ],
      "metadata": {
        "id": "IhoQRCmonoqT"
      }
    },
    {
      "cell_type": "markdown",
      "source": [
        "Tout d'abord, je vais créer un nouvel utilisateur et faire en sorte que le modèle suggère des partenaires pour cet utilisateur. "
      ],
      "metadata": {
        "id": "OoK3tR2Cp3UT"
      }
    },
    {
      "cell_type": "markdown",
      "source": [
        "Générer et répliquer le nouveau vecteur utilisateur pour correspondre au nombre de dans l'ensemble de données."
      ],
      "metadata": {
        "id": "0Zmi6IUUvvrz"
      }
    },
    {
      "cell_type": "code",
      "source": [
        "iid = 553\n",
        "pid = 1\n",
        "dec_u=1\n",
        "gender = 0\n",
        "age = 23\n",
        "imprace = 2\n",
        "std_from = 1\n",
        "\n",
        "user_vec = np.array([[iid, pid, dec_u, gender,age, imprace, std_from]])"
      ],
      "metadata": {
        "id": "Pt7U4KU6SD45"
      },
      "execution_count": 28,
      "outputs": []
    },
    {
      "cell_type": "code",
      "source": [
        "user_vec.shape"
      ],
      "metadata": {
        "colab": {
          "base_uri": "https://localhost:8080/"
        },
        "id": "a_6R72wxEXGc",
        "outputId": "a0cbec05-cdf4-4e2a-fecb-23b2d0a603de"
      },
      "execution_count": 29,
      "outputs": [
        {
          "output_type": "execute_result",
          "data": {
            "text/plain": [
              "(1, 7)"
            ]
          },
          "metadata": {},
          "execution_count": 29
        }
      ]
    },
    {
      "cell_type": "markdown",
      "source": [
        "Remodeler l'entrée de l'utilisateur pour qu'elle ait la même forme que celle des partenaires, afin que la sortie du modèle ait la même forme, ce qui permettra d'effectuer le produit scalaire.Je génère également le meme nombre de lignes pour les utilisateurs, afin qu'elles soient égales à celui des partenaires pour être en mesure de prédire la correspondance entre l'utilisateur et chaque partenaire individuel."
      ],
      "metadata": {
        "id": "SrpD6wxeI-JE"
      }
    },
    {
      "cell_type": "code",
      "source": [
        "user_vecs=np.array([user_vec.T,]*len(partners_df))\n",
        "user_vecs=user_vecs.squeeze()"
      ],
      "metadata": {
        "id": "BeJsklW3v-ON"
      },
      "execution_count": 30,
      "outputs": []
    },
    {
      "cell_type": "code",
      "source": [
        "user_vecs.shape"
      ],
      "metadata": {
        "colab": {
          "base_uri": "https://localhost:8080/"
        },
        "id": "m0cmt5Me3Tdc",
        "outputId": "bbff2939-e78e-4ba4-b129-988f1b588dee"
      },
      "execution_count": 31,
      "outputs": [
        {
          "output_type": "execute_result",
          "data": {
            "text/plain": [
              "(8368, 7)"
            ]
          },
          "metadata": {},
          "execution_count": 31
        }
      ]
    },
    {
      "cell_type": "code",
      "source": [
        "partners_df.shape"
      ],
      "metadata": {
        "colab": {
          "base_uri": "https://localhost:8080/"
        },
        "id": "We2qSFmkEhaZ",
        "outputId": "404356ee-5184-4f6b-c25d-0c3a28270d40"
      },
      "execution_count": 32,
      "outputs": [
        {
          "output_type": "execute_result",
          "data": {
            "text/plain": [
              "(8368, 7)"
            ]
          },
          "metadata": {},
          "execution_count": 32
        }
      ]
    },
    {
      "cell_type": "markdown",
      "source": [
        "Je standardise les entrés de l'utilisateur"
      ],
      "metadata": {
        "id": "Uzw9kNwcJq6k"
      }
    },
    {
      "cell_type": "code",
      "source": [
        "user = (user_vecs - user_vecs.mean())/(user_vecs.std())\n",
        "user"
      ],
      "metadata": {
        "colab": {
          "base_uri": "https://localhost:8080/"
        },
        "id": "Kzddx9ADB3ah",
        "outputId": "cdb19412-e4a0-4d6d-b8ff-9218f9b96b38"
      },
      "execution_count": 33,
      "outputs": [
        {
          "output_type": "execute_result",
          "data": {
            "text/plain": [
              "array([[ 2.44756575, -0.42702211, -0.42702211, ..., -0.3124552 ,\n",
              "        -0.42181452, -0.42702211],\n",
              "       [ 2.44756575, -0.42702211, -0.42702211, ..., -0.3124552 ,\n",
              "        -0.42181452, -0.42702211],\n",
              "       [ 2.44756575, -0.42702211, -0.42702211, ..., -0.3124552 ,\n",
              "        -0.42181452, -0.42702211],\n",
              "       ...,\n",
              "       [ 2.44756575, -0.42702211, -0.42702211, ..., -0.3124552 ,\n",
              "        -0.42181452, -0.42702211],\n",
              "       [ 2.44756575, -0.42702211, -0.42702211, ..., -0.3124552 ,\n",
              "        -0.42181452, -0.42702211],\n",
              "       [ 2.44756575, -0.42702211, -0.42702211, ..., -0.3124552 ,\n",
              "        -0.42181452, -0.42702211]])"
            ]
          },
          "metadata": {},
          "execution_count": 33
        }
      ]
    },
    {
      "cell_type": "code",
      "source": [
        "#Prediction\n",
        "user_pred=model.predict([user[:,2:], partners_df.iloc[:, p_s:]])\n"
      ],
      "metadata": {
        "id": "cZGNvdEWCHrF"
      },
      "execution_count": 34,
      "outputs": []
    },
    {
      "cell_type": "code",
      "source": [
        "predictions=result(user_pred)"
      ],
      "metadata": {
        "id": "hKvCRz-iFFnf"
      },
      "execution_count": 66,
      "outputs": []
    },
    {
      "cell_type": "markdown",
      "source": [
        "Je récupère les indexes des matchs potentiels , qui sont donc ceux que nous recommenderons a l'utilisateur "
      ],
      "metadata": {
        "id": "KL2fnq7vJ9UQ"
      }
    },
    {
      "cell_type": "code",
      "source": [
        "matches_ind=(np.where(predictions==1)[0]).tolist()\n",
        "matches_ind"
      ],
      "metadata": {
        "colab": {
          "base_uri": "https://localhost:8080/"
        },
        "id": "St2uGiwRGQUd",
        "outputId": "61814221-77f2-47dd-96e5-3f92c18c24ae"
      },
      "execution_count": 55,
      "outputs": [
        {
          "output_type": "execute_result",
          "data": {
            "text/plain": [
              "[2606,\n",
              " 2626,\n",
              " 2646,\n",
              " 2666,\n",
              " 2686,\n",
              " 2706,\n",
              " 2726,\n",
              " 2746,\n",
              " 2766,\n",
              " 2786,\n",
              " 2806,\n",
              " 2826,\n",
              " 2846,\n",
              " 2866,\n",
              " 2886,\n",
              " 2906,\n",
              " 2926,\n",
              " 2946,\n",
              " 2966,\n",
              " 2986]"
            ]
          },
          "metadata": {},
          "execution_count": 55
        }
      ]
    },
    {
      "cell_type": "markdown",
      "source": [
        "Ensuite, j'extrais les identifiants utilisateurs correspondant à ces indices"
      ],
      "metadata": {
        "id": "1jmFjUh6fXB7"
      }
    },
    {
      "cell_type": "code",
      "source": [
        "def matches(pred):\n",
        "  matches_ind=(np.where(pred==1)[0]).tolist() #get the matches indeces\n",
        "  matches=[]\n",
        "  for i in matches_ind:\n",
        "    matches.append(recommended_partner_df._get_value(i,'iid')) #get the corresponding partner's\n",
        "  print('Les identifiants des utilisateurs qui pourraient être des correspondances potentielles sont les suivants')\n",
        "  return set(matches)\n"
      ],
      "metadata": {
        "id": "g9vZhObZdqHs"
      },
      "execution_count": 75,
      "outputs": []
    },
    {
      "cell_type": "code",
      "source": [
        "matches(predictions)"
      ],
      "metadata": {
        "colab": {
          "base_uri": "https://localhost:8080/"
        },
        "id": "T1xz9IWQeCXm",
        "outputId": "cbb42e39-add9-4e60-bebf-f67d3e7e9ebe"
      },
      "execution_count": 76,
      "outputs": [
        {
          "output_type": "stream",
          "name": "stdout",
          "text": [
            "Les identifiants des utilisateurs qui pourraient être des correspondances potentielles sont les suivants\n"
          ]
        },
        {
          "output_type": "execute_result",
          "data": {
            "text/plain": [
              "{194,\n",
              " 195,\n",
              " 196,\n",
              " 197,\n",
              " 198,\n",
              " 199,\n",
              " 200,\n",
              " 201,\n",
              " 202,\n",
              " 203,\n",
              " 204,\n",
              " 205,\n",
              " 206,\n",
              " 207,\n",
              " 208,\n",
              " 209,\n",
              " 210,\n",
              " 211,\n",
              " 212,\n",
              " 213}"
            ]
          },
          "metadata": {},
          "execution_count": 76
        }
      ]
    },
    {
      "cell_type": "code",
      "source": [
        "np.unique(result(user_pred), return_counts=True)"
      ],
      "metadata": {
        "colab": {
          "base_uri": "https://localhost:8080/"
        },
        "id": "7nwrvxee2_Zu",
        "outputId": "55bec5e5-7ca7-43ac-bcb2-3ed9afd63d1a"
      },
      "execution_count": 49,
      "outputs": [
        {
          "output_type": "execute_result",
          "data": {
            "text/plain": [
              "(array([0., 1.]), array([8348,   20]))"
            ]
          },
          "metadata": {},
          "execution_count": 49
        }
      ]
    },
    {
      "cell_type": "code",
      "source": [
        "model.save(\"rec_system\")\n",
        "print(\"Modèle sauvegardé\")"
      ],
      "metadata": {
        "colab": {
          "base_uri": "https://localhost:8080/"
        },
        "id": "jgIje1KwKscr",
        "outputId": "81bf2268-5c74-4eab-952d-ced790e49d43"
      },
      "execution_count": 38,
      "outputs": [
        {
          "output_type": "stream",
          "name": "stdout",
          "text": [
            "INFO:tensorflow:Assets written to: rec_system/assets\n",
            "Modèle sauvegardé\n"
          ]
        }
      ]
    },
    {
      "cell_type": "code",
      "source": [
        ""
      ],
      "metadata": {
        "id": "dJAq33IwK3s7"
      },
      "execution_count": 38,
      "outputs": []
    }
  ]
}